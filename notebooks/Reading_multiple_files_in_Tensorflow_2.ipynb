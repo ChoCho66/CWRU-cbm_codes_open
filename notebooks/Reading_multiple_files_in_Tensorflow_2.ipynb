{
 "cells": [
  {
   "cell_type": "markdown",
   "metadata": {},
   "source": [
    "In this post, we will read multiple `.csv` files into Tensorflow using generators. But the method we will discuss is general enough to work for other file formats as well. We will demonstrate the procedure using 500 `.csv` files. These files have been created using random numbers. Each file contains only 1024 numbers in one column. This method can easily be extended to huge datasets involving thousands of `.csv` files. As the number of files becomes large, we can't load the whole data into memory. So we have to work with chunks of it. Generators help us do just that conveniently. In this post, we will read multiple files using a custom generator.\n",
    " \n",
    "This post is self-sufficient in the sense that readers don't have to download any data from anywhere. Just run the following codes sequentially. First, a folder named \"random_data\" will be created in current working directory and `.csv` files will be saved in it. Subsequently files will be read from that folder and processed. Just make sure that your current working directory doesn't have an old folder named \"random_data\". Then run the following codes. Jupyter notebook of this post can be found [here](metion_link)."
   ]
  },
  {
   "cell_type": "markdown",
   "metadata": {},
   "source": [
    "We will use `Tensorflow 2` to run our deep learning model. `Tensorflow` is very flexible. A given task can be done in different ways in it. The method we will use is not the only one. Readers are encouraged to explore other ways of doing the same. Below is an outline of three different tasks considered in this post."
   ]
  },
  {
   "cell_type": "markdown",
   "metadata": {},
   "source": [
    "# Outline:\n",
    "1. Create 500 `\".csv\"` files and save it in the folder \"random_data\" in current directory.\n",
    "2. Write a generator that reads data from the folder in chunks and preprocesses it.\n",
    "3. Feed the chunks of data to a CNN model and train it for several epochs."
   ]
  },
  {
   "cell_type": "markdown",
   "metadata": {},
   "source": [
    "## 1. Create 500 `.csv` files of random data\n",
    "\n",
    "As we intend to train a CNN model for classification using our data, we will generate data for 5 different classes. Following is the process that we will follow.\n",
    "* Each `.csv` file will have one column of data with 1024 entries.\n",
    "* Each file will be saved using one of the following names (Fault_1, Fault_2, Fault_3, Fault_4, Fault_5). The dataset is balanced, meaning, for each category, we have approximately same number of observations. Data files in \"Fault_1\" \n",
    "category will have names as \"Fault_1_001.csv\", \"Fault_1_002.csv\", \"Fault_1_003.csv\", ..., \"Fault_1_100.csv\". Similarly for other classes. "
   ]
  },
  {
   "cell_type": "code",
   "execution_count": 1,
   "metadata": {},
   "outputs": [],
   "source": [
    "import numpy as np\n",
    "import os\n",
    "import glob\n",
    "np.random.seed(1111)"
   ]
  },
  {
   "cell_type": "markdown",
   "metadata": {},
   "source": [
    "First create a function that will generate random files. "
   ]
  },
  {
   "cell_type": "code",
   "execution_count": 2,
   "metadata": {},
   "outputs": [],
   "source": [
    "def create_random_csv_files(fault_classes, number_of_files_in_each_class):\n",
    "    os.mkdir(\"./random_data/\")  # Make a directory to save created files.\n",
    "    for fault_class in fault_classes:\n",
    "        for i in range(number_of_files_in_each_class):\n",
    "            data = np.random.rand(1024,)\n",
    "            file_name = \"./random_data/\" + eval(\"fault_class\") + \"_\" + \"{0:03}\".format(i+1) + \".csv\" # This creates file_name\n",
    "            np.savetxt(eval(\"file_name\"), data, delimiter = \",\", header = \"V1\", comments = \"\")\n",
    "        print(str(eval(\"number_of_files_in_each_class\")) + \" \" + eval(\"fault_class\") + \" files\"  + \" created.\")"
   ]
  },
  {
   "cell_type": "markdown",
   "metadata": {},
   "source": [
    "Now use the function to create 100 files each for five fault types. "
   ]
  },
  {
   "cell_type": "code",
   "execution_count": 3,
   "metadata": {},
   "outputs": [
    {
     "name": "stdout",
     "output_type": "stream",
     "text": [
      "100 Fault_1 files created.\n",
      "100 Fault_2 files created.\n",
      "100 Fault_3 files created.\n",
      "100 Fault_4 files created.\n",
      "100 Fault_5 files created.\n"
     ]
    }
   ],
   "source": [
    "create_random_csv_files([\"Fault_1\", \"Fault_2\", \"Fault_3\", \"Fault_4\", \"Fault_5\"], number_of_files_in_each_class = 100)"
   ]
  },
  {
   "cell_type": "code",
   "execution_count": 4,
   "metadata": {},
   "outputs": [
    {
     "data": {
      "text/plain": [
       "['./random_data\\\\Fault_1_001.csv',\n",
       " './random_data\\\\Fault_1_002.csv',\n",
       " './random_data\\\\Fault_1_003.csv',\n",
       " './random_data\\\\Fault_1_004.csv',\n",
       " './random_data\\\\Fault_1_005.csv',\n",
       " './random_data\\\\Fault_1_006.csv',\n",
       " './random_data\\\\Fault_1_007.csv',\n",
       " './random_data\\\\Fault_1_008.csv',\n",
       " './random_data\\\\Fault_1_009.csv',\n",
       " './random_data\\\\Fault_1_010.csv',\n",
       " './random_data\\\\Fault_1_011.csv',\n",
       " './random_data\\\\Fault_1_012.csv',\n",
       " './random_data\\\\Fault_1_013.csv',\n",
       " './random_data\\\\Fault_1_014.csv',\n",
       " './random_data\\\\Fault_1_015.csv',\n",
       " './random_data\\\\Fault_1_016.csv',\n",
       " './random_data\\\\Fault_1_017.csv',\n",
       " './random_data\\\\Fault_1_018.csv',\n",
       " './random_data\\\\Fault_1_019.csv',\n",
       " './random_data\\\\Fault_1_020.csv',\n",
       " './random_data\\\\Fault_1_021.csv',\n",
       " './random_data\\\\Fault_1_022.csv',\n",
       " './random_data\\\\Fault_1_023.csv',\n",
       " './random_data\\\\Fault_1_024.csv',\n",
       " './random_data\\\\Fault_1_025.csv',\n",
       " './random_data\\\\Fault_1_026.csv',\n",
       " './random_data\\\\Fault_1_027.csv',\n",
       " './random_data\\\\Fault_1_028.csv',\n",
       " './random_data\\\\Fault_1_029.csv',\n",
       " './random_data\\\\Fault_1_030.csv',\n",
       " './random_data\\\\Fault_1_031.csv',\n",
       " './random_data\\\\Fault_1_032.csv',\n",
       " './random_data\\\\Fault_1_033.csv',\n",
       " './random_data\\\\Fault_1_034.csv',\n",
       " './random_data\\\\Fault_1_035.csv',\n",
       " './random_data\\\\Fault_1_036.csv',\n",
       " './random_data\\\\Fault_1_037.csv',\n",
       " './random_data\\\\Fault_1_038.csv',\n",
       " './random_data\\\\Fault_1_039.csv',\n",
       " './random_data\\\\Fault_1_040.csv',\n",
       " './random_data\\\\Fault_1_041.csv',\n",
       " './random_data\\\\Fault_1_042.csv',\n",
       " './random_data\\\\Fault_1_043.csv',\n",
       " './random_data\\\\Fault_1_044.csv',\n",
       " './random_data\\\\Fault_1_045.csv',\n",
       " './random_data\\\\Fault_1_046.csv',\n",
       " './random_data\\\\Fault_1_047.csv',\n",
       " './random_data\\\\Fault_1_048.csv',\n",
       " './random_data\\\\Fault_1_049.csv',\n",
       " './random_data\\\\Fault_1_050.csv',\n",
       " './random_data\\\\Fault_1_051.csv',\n",
       " './random_data\\\\Fault_1_052.csv',\n",
       " './random_data\\\\Fault_1_053.csv',\n",
       " './random_data\\\\Fault_1_054.csv',\n",
       " './random_data\\\\Fault_1_055.csv',\n",
       " './random_data\\\\Fault_1_056.csv',\n",
       " './random_data\\\\Fault_1_057.csv',\n",
       " './random_data\\\\Fault_1_058.csv',\n",
       " './random_data\\\\Fault_1_059.csv',\n",
       " './random_data\\\\Fault_1_060.csv',\n",
       " './random_data\\\\Fault_1_061.csv',\n",
       " './random_data\\\\Fault_1_062.csv',\n",
       " './random_data\\\\Fault_1_063.csv',\n",
       " './random_data\\\\Fault_1_064.csv',\n",
       " './random_data\\\\Fault_1_065.csv',\n",
       " './random_data\\\\Fault_1_066.csv',\n",
       " './random_data\\\\Fault_1_067.csv',\n",
       " './random_data\\\\Fault_1_068.csv',\n",
       " './random_data\\\\Fault_1_069.csv',\n",
       " './random_data\\\\Fault_1_070.csv',\n",
       " './random_data\\\\Fault_1_071.csv',\n",
       " './random_data\\\\Fault_1_072.csv',\n",
       " './random_data\\\\Fault_1_073.csv',\n",
       " './random_data\\\\Fault_1_074.csv',\n",
       " './random_data\\\\Fault_1_075.csv',\n",
       " './random_data\\\\Fault_1_076.csv',\n",
       " './random_data\\\\Fault_1_077.csv',\n",
       " './random_data\\\\Fault_1_078.csv',\n",
       " './random_data\\\\Fault_1_079.csv',\n",
       " './random_data\\\\Fault_1_080.csv',\n",
       " './random_data\\\\Fault_1_081.csv',\n",
       " './random_data\\\\Fault_1_082.csv',\n",
       " './random_data\\\\Fault_1_083.csv',\n",
       " './random_data\\\\Fault_1_084.csv',\n",
       " './random_data\\\\Fault_1_085.csv',\n",
       " './random_data\\\\Fault_1_086.csv',\n",
       " './random_data\\\\Fault_1_087.csv',\n",
       " './random_data\\\\Fault_1_088.csv',\n",
       " './random_data\\\\Fault_1_089.csv',\n",
       " './random_data\\\\Fault_1_090.csv',\n",
       " './random_data\\\\Fault_1_091.csv',\n",
       " './random_data\\\\Fault_1_092.csv',\n",
       " './random_data\\\\Fault_1_093.csv',\n",
       " './random_data\\\\Fault_1_094.csv',\n",
       " './random_data\\\\Fault_1_095.csv',\n",
       " './random_data\\\\Fault_1_096.csv',\n",
       " './random_data\\\\Fault_1_097.csv',\n",
       " './random_data\\\\Fault_1_098.csv',\n",
       " './random_data\\\\Fault_1_099.csv',\n",
       " './random_data\\\\Fault_1_100.csv',\n",
       " './random_data\\\\Fault_2_001.csv',\n",
       " './random_data\\\\Fault_2_002.csv',\n",
       " './random_data\\\\Fault_2_003.csv',\n",
       " './random_data\\\\Fault_2_004.csv',\n",
       " './random_data\\\\Fault_2_005.csv',\n",
       " './random_data\\\\Fault_2_006.csv',\n",
       " './random_data\\\\Fault_2_007.csv',\n",
       " './random_data\\\\Fault_2_008.csv',\n",
       " './random_data\\\\Fault_2_009.csv',\n",
       " './random_data\\\\Fault_2_010.csv',\n",
       " './random_data\\\\Fault_2_011.csv',\n",
       " './random_data\\\\Fault_2_012.csv',\n",
       " './random_data\\\\Fault_2_013.csv',\n",
       " './random_data\\\\Fault_2_014.csv',\n",
       " './random_data\\\\Fault_2_015.csv',\n",
       " './random_data\\\\Fault_2_016.csv',\n",
       " './random_data\\\\Fault_2_017.csv',\n",
       " './random_data\\\\Fault_2_018.csv',\n",
       " './random_data\\\\Fault_2_019.csv',\n",
       " './random_data\\\\Fault_2_020.csv',\n",
       " './random_data\\\\Fault_2_021.csv',\n",
       " './random_data\\\\Fault_2_022.csv',\n",
       " './random_data\\\\Fault_2_023.csv',\n",
       " './random_data\\\\Fault_2_024.csv',\n",
       " './random_data\\\\Fault_2_025.csv',\n",
       " './random_data\\\\Fault_2_026.csv',\n",
       " './random_data\\\\Fault_2_027.csv',\n",
       " './random_data\\\\Fault_2_028.csv',\n",
       " './random_data\\\\Fault_2_029.csv',\n",
       " './random_data\\\\Fault_2_030.csv',\n",
       " './random_data\\\\Fault_2_031.csv',\n",
       " './random_data\\\\Fault_2_032.csv',\n",
       " './random_data\\\\Fault_2_033.csv',\n",
       " './random_data\\\\Fault_2_034.csv',\n",
       " './random_data\\\\Fault_2_035.csv',\n",
       " './random_data\\\\Fault_2_036.csv',\n",
       " './random_data\\\\Fault_2_037.csv',\n",
       " './random_data\\\\Fault_2_038.csv',\n",
       " './random_data\\\\Fault_2_039.csv',\n",
       " './random_data\\\\Fault_2_040.csv',\n",
       " './random_data\\\\Fault_2_041.csv',\n",
       " './random_data\\\\Fault_2_042.csv',\n",
       " './random_data\\\\Fault_2_043.csv',\n",
       " './random_data\\\\Fault_2_044.csv',\n",
       " './random_data\\\\Fault_2_045.csv',\n",
       " './random_data\\\\Fault_2_046.csv',\n",
       " './random_data\\\\Fault_2_047.csv',\n",
       " './random_data\\\\Fault_2_048.csv',\n",
       " './random_data\\\\Fault_2_049.csv',\n",
       " './random_data\\\\Fault_2_050.csv',\n",
       " './random_data\\\\Fault_2_051.csv',\n",
       " './random_data\\\\Fault_2_052.csv',\n",
       " './random_data\\\\Fault_2_053.csv',\n",
       " './random_data\\\\Fault_2_054.csv',\n",
       " './random_data\\\\Fault_2_055.csv',\n",
       " './random_data\\\\Fault_2_056.csv',\n",
       " './random_data\\\\Fault_2_057.csv',\n",
       " './random_data\\\\Fault_2_058.csv',\n",
       " './random_data\\\\Fault_2_059.csv',\n",
       " './random_data\\\\Fault_2_060.csv',\n",
       " './random_data\\\\Fault_2_061.csv',\n",
       " './random_data\\\\Fault_2_062.csv',\n",
       " './random_data\\\\Fault_2_063.csv',\n",
       " './random_data\\\\Fault_2_064.csv',\n",
       " './random_data\\\\Fault_2_065.csv',\n",
       " './random_data\\\\Fault_2_066.csv',\n",
       " './random_data\\\\Fault_2_067.csv',\n",
       " './random_data\\\\Fault_2_068.csv',\n",
       " './random_data\\\\Fault_2_069.csv',\n",
       " './random_data\\\\Fault_2_070.csv',\n",
       " './random_data\\\\Fault_2_071.csv',\n",
       " './random_data\\\\Fault_2_072.csv',\n",
       " './random_data\\\\Fault_2_073.csv',\n",
       " './random_data\\\\Fault_2_074.csv',\n",
       " './random_data\\\\Fault_2_075.csv',\n",
       " './random_data\\\\Fault_2_076.csv',\n",
       " './random_data\\\\Fault_2_077.csv',\n",
       " './random_data\\\\Fault_2_078.csv',\n",
       " './random_data\\\\Fault_2_079.csv',\n",
       " './random_data\\\\Fault_2_080.csv',\n",
       " './random_data\\\\Fault_2_081.csv',\n",
       " './random_data\\\\Fault_2_082.csv',\n",
       " './random_data\\\\Fault_2_083.csv',\n",
       " './random_data\\\\Fault_2_084.csv',\n",
       " './random_data\\\\Fault_2_085.csv',\n",
       " './random_data\\\\Fault_2_086.csv',\n",
       " './random_data\\\\Fault_2_087.csv',\n",
       " './random_data\\\\Fault_2_088.csv',\n",
       " './random_data\\\\Fault_2_089.csv',\n",
       " './random_data\\\\Fault_2_090.csv',\n",
       " './random_data\\\\Fault_2_091.csv',\n",
       " './random_data\\\\Fault_2_092.csv',\n",
       " './random_data\\\\Fault_2_093.csv',\n",
       " './random_data\\\\Fault_2_094.csv',\n",
       " './random_data\\\\Fault_2_095.csv',\n",
       " './random_data\\\\Fault_2_096.csv',\n",
       " './random_data\\\\Fault_2_097.csv',\n",
       " './random_data\\\\Fault_2_098.csv',\n",
       " './random_data\\\\Fault_2_099.csv',\n",
       " './random_data\\\\Fault_2_100.csv',\n",
       " './random_data\\\\Fault_3_001.csv',\n",
       " './random_data\\\\Fault_3_002.csv',\n",
       " './random_data\\\\Fault_3_003.csv',\n",
       " './random_data\\\\Fault_3_004.csv',\n",
       " './random_data\\\\Fault_3_005.csv',\n",
       " './random_data\\\\Fault_3_006.csv',\n",
       " './random_data\\\\Fault_3_007.csv',\n",
       " './random_data\\\\Fault_3_008.csv',\n",
       " './random_data\\\\Fault_3_009.csv',\n",
       " './random_data\\\\Fault_3_010.csv',\n",
       " './random_data\\\\Fault_3_011.csv',\n",
       " './random_data\\\\Fault_3_012.csv',\n",
       " './random_data\\\\Fault_3_013.csv',\n",
       " './random_data\\\\Fault_3_014.csv',\n",
       " './random_data\\\\Fault_3_015.csv',\n",
       " './random_data\\\\Fault_3_016.csv',\n",
       " './random_data\\\\Fault_3_017.csv',\n",
       " './random_data\\\\Fault_3_018.csv',\n",
       " './random_data\\\\Fault_3_019.csv',\n",
       " './random_data\\\\Fault_3_020.csv',\n",
       " './random_data\\\\Fault_3_021.csv',\n",
       " './random_data\\\\Fault_3_022.csv',\n",
       " './random_data\\\\Fault_3_023.csv',\n",
       " './random_data\\\\Fault_3_024.csv',\n",
       " './random_data\\\\Fault_3_025.csv',\n",
       " './random_data\\\\Fault_3_026.csv',\n",
       " './random_data\\\\Fault_3_027.csv',\n",
       " './random_data\\\\Fault_3_028.csv',\n",
       " './random_data\\\\Fault_3_029.csv',\n",
       " './random_data\\\\Fault_3_030.csv',\n",
       " './random_data\\\\Fault_3_031.csv',\n",
       " './random_data\\\\Fault_3_032.csv',\n",
       " './random_data\\\\Fault_3_033.csv',\n",
       " './random_data\\\\Fault_3_034.csv',\n",
       " './random_data\\\\Fault_3_035.csv',\n",
       " './random_data\\\\Fault_3_036.csv',\n",
       " './random_data\\\\Fault_3_037.csv',\n",
       " './random_data\\\\Fault_3_038.csv',\n",
       " './random_data\\\\Fault_3_039.csv',\n",
       " './random_data\\\\Fault_3_040.csv',\n",
       " './random_data\\\\Fault_3_041.csv',\n",
       " './random_data\\\\Fault_3_042.csv',\n",
       " './random_data\\\\Fault_3_043.csv',\n",
       " './random_data\\\\Fault_3_044.csv',\n",
       " './random_data\\\\Fault_3_045.csv',\n",
       " './random_data\\\\Fault_3_046.csv',\n",
       " './random_data\\\\Fault_3_047.csv',\n",
       " './random_data\\\\Fault_3_048.csv',\n",
       " './random_data\\\\Fault_3_049.csv',\n",
       " './random_data\\\\Fault_3_050.csv',\n",
       " './random_data\\\\Fault_3_051.csv',\n",
       " './random_data\\\\Fault_3_052.csv',\n",
       " './random_data\\\\Fault_3_053.csv',\n",
       " './random_data\\\\Fault_3_054.csv',\n",
       " './random_data\\\\Fault_3_055.csv',\n",
       " './random_data\\\\Fault_3_056.csv',\n",
       " './random_data\\\\Fault_3_057.csv',\n",
       " './random_data\\\\Fault_3_058.csv',\n",
       " './random_data\\\\Fault_3_059.csv',\n",
       " './random_data\\\\Fault_3_060.csv',\n",
       " './random_data\\\\Fault_3_061.csv',\n",
       " './random_data\\\\Fault_3_062.csv',\n",
       " './random_data\\\\Fault_3_063.csv',\n",
       " './random_data\\\\Fault_3_064.csv',\n",
       " './random_data\\\\Fault_3_065.csv',\n",
       " './random_data\\\\Fault_3_066.csv',\n",
       " './random_data\\\\Fault_3_067.csv',\n",
       " './random_data\\\\Fault_3_068.csv',\n",
       " './random_data\\\\Fault_3_069.csv',\n",
       " './random_data\\\\Fault_3_070.csv',\n",
       " './random_data\\\\Fault_3_071.csv',\n",
       " './random_data\\\\Fault_3_072.csv',\n",
       " './random_data\\\\Fault_3_073.csv',\n",
       " './random_data\\\\Fault_3_074.csv',\n",
       " './random_data\\\\Fault_3_075.csv',\n",
       " './random_data\\\\Fault_3_076.csv',\n",
       " './random_data\\\\Fault_3_077.csv',\n",
       " './random_data\\\\Fault_3_078.csv',\n",
       " './random_data\\\\Fault_3_079.csv',\n",
       " './random_data\\\\Fault_3_080.csv',\n",
       " './random_data\\\\Fault_3_081.csv',\n",
       " './random_data\\\\Fault_3_082.csv',\n",
       " './random_data\\\\Fault_3_083.csv',\n",
       " './random_data\\\\Fault_3_084.csv',\n",
       " './random_data\\\\Fault_3_085.csv',\n",
       " './random_data\\\\Fault_3_086.csv',\n",
       " './random_data\\\\Fault_3_087.csv',\n",
       " './random_data\\\\Fault_3_088.csv',\n",
       " './random_data\\\\Fault_3_089.csv',\n",
       " './random_data\\\\Fault_3_090.csv',\n",
       " './random_data\\\\Fault_3_091.csv',\n",
       " './random_data\\\\Fault_3_092.csv',\n",
       " './random_data\\\\Fault_3_093.csv',\n",
       " './random_data\\\\Fault_3_094.csv',\n",
       " './random_data\\\\Fault_3_095.csv',\n",
       " './random_data\\\\Fault_3_096.csv',\n",
       " './random_data\\\\Fault_3_097.csv',\n",
       " './random_data\\\\Fault_3_098.csv',\n",
       " './random_data\\\\Fault_3_099.csv',\n",
       " './random_data\\\\Fault_3_100.csv',\n",
       " './random_data\\\\Fault_4_001.csv',\n",
       " './random_data\\\\Fault_4_002.csv',\n",
       " './random_data\\\\Fault_4_003.csv',\n",
       " './random_data\\\\Fault_4_004.csv',\n",
       " './random_data\\\\Fault_4_005.csv',\n",
       " './random_data\\\\Fault_4_006.csv',\n",
       " './random_data\\\\Fault_4_007.csv',\n",
       " './random_data\\\\Fault_4_008.csv',\n",
       " './random_data\\\\Fault_4_009.csv',\n",
       " './random_data\\\\Fault_4_010.csv',\n",
       " './random_data\\\\Fault_4_011.csv',\n",
       " './random_data\\\\Fault_4_012.csv',\n",
       " './random_data\\\\Fault_4_013.csv',\n",
       " './random_data\\\\Fault_4_014.csv',\n",
       " './random_data\\\\Fault_4_015.csv',\n",
       " './random_data\\\\Fault_4_016.csv',\n",
       " './random_data\\\\Fault_4_017.csv',\n",
       " './random_data\\\\Fault_4_018.csv',\n",
       " './random_data\\\\Fault_4_019.csv',\n",
       " './random_data\\\\Fault_4_020.csv',\n",
       " './random_data\\\\Fault_4_021.csv',\n",
       " './random_data\\\\Fault_4_022.csv',\n",
       " './random_data\\\\Fault_4_023.csv',\n",
       " './random_data\\\\Fault_4_024.csv',\n",
       " './random_data\\\\Fault_4_025.csv',\n",
       " './random_data\\\\Fault_4_026.csv',\n",
       " './random_data\\\\Fault_4_027.csv',\n",
       " './random_data\\\\Fault_4_028.csv',\n",
       " './random_data\\\\Fault_4_029.csv',\n",
       " './random_data\\\\Fault_4_030.csv',\n",
       " './random_data\\\\Fault_4_031.csv',\n",
       " './random_data\\\\Fault_4_032.csv',\n",
       " './random_data\\\\Fault_4_033.csv',\n",
       " './random_data\\\\Fault_4_034.csv',\n",
       " './random_data\\\\Fault_4_035.csv',\n",
       " './random_data\\\\Fault_4_036.csv',\n",
       " './random_data\\\\Fault_4_037.csv',\n",
       " './random_data\\\\Fault_4_038.csv',\n",
       " './random_data\\\\Fault_4_039.csv',\n",
       " './random_data\\\\Fault_4_040.csv',\n",
       " './random_data\\\\Fault_4_041.csv',\n",
       " './random_data\\\\Fault_4_042.csv',\n",
       " './random_data\\\\Fault_4_043.csv',\n",
       " './random_data\\\\Fault_4_044.csv',\n",
       " './random_data\\\\Fault_4_045.csv',\n",
       " './random_data\\\\Fault_4_046.csv',\n",
       " './random_data\\\\Fault_4_047.csv',\n",
       " './random_data\\\\Fault_4_048.csv',\n",
       " './random_data\\\\Fault_4_049.csv',\n",
       " './random_data\\\\Fault_4_050.csv',\n",
       " './random_data\\\\Fault_4_051.csv',\n",
       " './random_data\\\\Fault_4_052.csv',\n",
       " './random_data\\\\Fault_4_053.csv',\n",
       " './random_data\\\\Fault_4_054.csv',\n",
       " './random_data\\\\Fault_4_055.csv',\n",
       " './random_data\\\\Fault_4_056.csv',\n",
       " './random_data\\\\Fault_4_057.csv',\n",
       " './random_data\\\\Fault_4_058.csv',\n",
       " './random_data\\\\Fault_4_059.csv',\n",
       " './random_data\\\\Fault_4_060.csv',\n",
       " './random_data\\\\Fault_4_061.csv',\n",
       " './random_data\\\\Fault_4_062.csv',\n",
       " './random_data\\\\Fault_4_063.csv',\n",
       " './random_data\\\\Fault_4_064.csv',\n",
       " './random_data\\\\Fault_4_065.csv',\n",
       " './random_data\\\\Fault_4_066.csv',\n",
       " './random_data\\\\Fault_4_067.csv',\n",
       " './random_data\\\\Fault_4_068.csv',\n",
       " './random_data\\\\Fault_4_069.csv',\n",
       " './random_data\\\\Fault_4_070.csv',\n",
       " './random_data\\\\Fault_4_071.csv',\n",
       " './random_data\\\\Fault_4_072.csv',\n",
       " './random_data\\\\Fault_4_073.csv',\n",
       " './random_data\\\\Fault_4_074.csv',\n",
       " './random_data\\\\Fault_4_075.csv',\n",
       " './random_data\\\\Fault_4_076.csv',\n",
       " './random_data\\\\Fault_4_077.csv',\n",
       " './random_data\\\\Fault_4_078.csv',\n",
       " './random_data\\\\Fault_4_079.csv',\n",
       " './random_data\\\\Fault_4_080.csv',\n",
       " './random_data\\\\Fault_4_081.csv',\n",
       " './random_data\\\\Fault_4_082.csv',\n",
       " './random_data\\\\Fault_4_083.csv',\n",
       " './random_data\\\\Fault_4_084.csv',\n",
       " './random_data\\\\Fault_4_085.csv',\n",
       " './random_data\\\\Fault_4_086.csv',\n",
       " './random_data\\\\Fault_4_087.csv',\n",
       " './random_data\\\\Fault_4_088.csv',\n",
       " './random_data\\\\Fault_4_089.csv',\n",
       " './random_data\\\\Fault_4_090.csv',\n",
       " './random_data\\\\Fault_4_091.csv',\n",
       " './random_data\\\\Fault_4_092.csv',\n",
       " './random_data\\\\Fault_4_093.csv',\n",
       " './random_data\\\\Fault_4_094.csv',\n",
       " './random_data\\\\Fault_4_095.csv',\n",
       " './random_data\\\\Fault_4_096.csv',\n",
       " './random_data\\\\Fault_4_097.csv',\n",
       " './random_data\\\\Fault_4_098.csv',\n",
       " './random_data\\\\Fault_4_099.csv',\n",
       " './random_data\\\\Fault_4_100.csv',\n",
       " './random_data\\\\Fault_5_001.csv',\n",
       " './random_data\\\\Fault_5_002.csv',\n",
       " './random_data\\\\Fault_5_003.csv',\n",
       " './random_data\\\\Fault_5_004.csv',\n",
       " './random_data\\\\Fault_5_005.csv',\n",
       " './random_data\\\\Fault_5_006.csv',\n",
       " './random_data\\\\Fault_5_007.csv',\n",
       " './random_data\\\\Fault_5_008.csv',\n",
       " './random_data\\\\Fault_5_009.csv',\n",
       " './random_data\\\\Fault_5_010.csv',\n",
       " './random_data\\\\Fault_5_011.csv',\n",
       " './random_data\\\\Fault_5_012.csv',\n",
       " './random_data\\\\Fault_5_013.csv',\n",
       " './random_data\\\\Fault_5_014.csv',\n",
       " './random_data\\\\Fault_5_015.csv',\n",
       " './random_data\\\\Fault_5_016.csv',\n",
       " './random_data\\\\Fault_5_017.csv',\n",
       " './random_data\\\\Fault_5_018.csv',\n",
       " './random_data\\\\Fault_5_019.csv',\n",
       " './random_data\\\\Fault_5_020.csv',\n",
       " './random_data\\\\Fault_5_021.csv',\n",
       " './random_data\\\\Fault_5_022.csv',\n",
       " './random_data\\\\Fault_5_023.csv',\n",
       " './random_data\\\\Fault_5_024.csv',\n",
       " './random_data\\\\Fault_5_025.csv',\n",
       " './random_data\\\\Fault_5_026.csv',\n",
       " './random_data\\\\Fault_5_027.csv',\n",
       " './random_data\\\\Fault_5_028.csv',\n",
       " './random_data\\\\Fault_5_029.csv',\n",
       " './random_data\\\\Fault_5_030.csv',\n",
       " './random_data\\\\Fault_5_031.csv',\n",
       " './random_data\\\\Fault_5_032.csv',\n",
       " './random_data\\\\Fault_5_033.csv',\n",
       " './random_data\\\\Fault_5_034.csv',\n",
       " './random_data\\\\Fault_5_035.csv',\n",
       " './random_data\\\\Fault_5_036.csv',\n",
       " './random_data\\\\Fault_5_037.csv',\n",
       " './random_data\\\\Fault_5_038.csv',\n",
       " './random_data\\\\Fault_5_039.csv',\n",
       " './random_data\\\\Fault_5_040.csv',\n",
       " './random_data\\\\Fault_5_041.csv',\n",
       " './random_data\\\\Fault_5_042.csv',\n",
       " './random_data\\\\Fault_5_043.csv',\n",
       " './random_data\\\\Fault_5_044.csv',\n",
       " './random_data\\\\Fault_5_045.csv',\n",
       " './random_data\\\\Fault_5_046.csv',\n",
       " './random_data\\\\Fault_5_047.csv',\n",
       " './random_data\\\\Fault_5_048.csv',\n",
       " './random_data\\\\Fault_5_049.csv',\n",
       " './random_data\\\\Fault_5_050.csv',\n",
       " './random_data\\\\Fault_5_051.csv',\n",
       " './random_data\\\\Fault_5_052.csv',\n",
       " './random_data\\\\Fault_5_053.csv',\n",
       " './random_data\\\\Fault_5_054.csv',\n",
       " './random_data\\\\Fault_5_055.csv',\n",
       " './random_data\\\\Fault_5_056.csv',\n",
       " './random_data\\\\Fault_5_057.csv',\n",
       " './random_data\\\\Fault_5_058.csv',\n",
       " './random_data\\\\Fault_5_059.csv',\n",
       " './random_data\\\\Fault_5_060.csv',\n",
       " './random_data\\\\Fault_5_061.csv',\n",
       " './random_data\\\\Fault_5_062.csv',\n",
       " './random_data\\\\Fault_5_063.csv',\n",
       " './random_data\\\\Fault_5_064.csv',\n",
       " './random_data\\\\Fault_5_065.csv',\n",
       " './random_data\\\\Fault_5_066.csv',\n",
       " './random_data\\\\Fault_5_067.csv',\n",
       " './random_data\\\\Fault_5_068.csv',\n",
       " './random_data\\\\Fault_5_069.csv',\n",
       " './random_data\\\\Fault_5_070.csv',\n",
       " './random_data\\\\Fault_5_071.csv',\n",
       " './random_data\\\\Fault_5_072.csv',\n",
       " './random_data\\\\Fault_5_073.csv',\n",
       " './random_data\\\\Fault_5_074.csv',\n",
       " './random_data\\\\Fault_5_075.csv',\n",
       " './random_data\\\\Fault_5_076.csv',\n",
       " './random_data\\\\Fault_5_077.csv',\n",
       " './random_data\\\\Fault_5_078.csv',\n",
       " './random_data\\\\Fault_5_079.csv',\n",
       " './random_data\\\\Fault_5_080.csv',\n",
       " './random_data\\\\Fault_5_081.csv',\n",
       " './random_data\\\\Fault_5_082.csv',\n",
       " './random_data\\\\Fault_5_083.csv',\n",
       " './random_data\\\\Fault_5_084.csv',\n",
       " './random_data\\\\Fault_5_085.csv',\n",
       " './random_data\\\\Fault_5_086.csv',\n",
       " './random_data\\\\Fault_5_087.csv',\n",
       " './random_data\\\\Fault_5_088.csv',\n",
       " './random_data\\\\Fault_5_089.csv',\n",
       " './random_data\\\\Fault_5_090.csv',\n",
       " './random_data\\\\Fault_5_091.csv',\n",
       " './random_data\\\\Fault_5_092.csv',\n",
       " './random_data\\\\Fault_5_093.csv',\n",
       " './random_data\\\\Fault_5_094.csv',\n",
       " './random_data\\\\Fault_5_095.csv',\n",
       " './random_data\\\\Fault_5_096.csv',\n",
       " './random_data\\\\Fault_5_097.csv',\n",
       " './random_data\\\\Fault_5_098.csv',\n",
       " './random_data\\\\Fault_5_099.csv',\n",
       " './random_data\\\\Fault_5_100.csv']"
      ]
     },
     "execution_count": 4,
     "metadata": {},
     "output_type": "execute_result"
    }
   ],
   "source": [
    "files = glob.glob(\"./random_data/*\")\n",
    "files"
   ]
  },
  {
   "cell_type": "markdown",
   "metadata": {},
   "source": [
    "To extract labels from file name, extract the part of the file name that corresponds to fault type. "
   ]
  },
  {
   "cell_type": "code",
   "execution_count": 5,
   "metadata": {},
   "outputs": [
    {
     "name": "stdout",
     "output_type": "stream",
     "text": [
      "./random_data\\Fault_1_001.csv\n"
     ]
    }
   ],
   "source": [
    "print(files[0])"
   ]
  },
  {
   "cell_type": "code",
   "execution_count": 6,
   "metadata": {},
   "outputs": [
    {
     "name": "stdout",
     "output_type": "stream",
     "text": [
      "Fault_1\n"
     ]
    }
   ],
   "source": [
    "print(files[0][14:21])"
   ]
  },
  {
   "cell_type": "markdown",
   "metadata": {},
   "source": [
    "Now that data has been created, we will go to the next step. That is, define a generator, preprocess the time series like data into a matrix like shape such that a 2-D CNN can ingest it. \n",
    "\n",
    "## 2. Write a generator that reads data in chunks and preprocesses it\n",
    "Generator are similar to functions with one important difference. While functions produce all their outputs at once, generators produce their outputs one by one and that too when asked. `yield` keyword converts a function into a generator. Generators can run for a fixed number of times or indefinitely depending on the loop structure used inside it. For out application, we will use a generator that runs indefinitely."
   ]
  },
  {
   "cell_type": "markdown",
   "metadata": {},
   "source": [
    "The following generator takes a list of file names as first input. The second argument is `batch_size`. `batch_size` determines how many files we will process at one go. This is determined by how much memory do we have. If all data can be loaded into memory, there is no need for generators. In case our data size is huge, we can process chunks of it.  \n",
    "\n",
    "As we will be solving a classification problem, we have to assign labels to each raw data. We will use following labels for convenience.\n",
    "\n",
    "|Class| Label|\n",
    "|-----|------|\n",
    "|Fault_1| 0|\n",
    "|Fault_2| 1|\n",
    "|Fault_3| 2|\n",
    "|Fault_4| 3|\n",
    "|Fault_5| 4|\n",
    "\n",
    "The generator will `yield` both data and labels."
   ]
  },
  {
   "cell_type": "code",
   "execution_count": 7,
   "metadata": {},
   "outputs": [],
   "source": [
    "import pandas as pd\n",
    "import re            # To match regular expression for extracting labels"
   ]
  },
  {
   "cell_type": "code",
   "execution_count": 8,
   "metadata": {},
   "outputs": [],
   "source": [
    "def data_generator(file_list, batch_size = 20):\n",
    "    i = 0\n",
    "    while True:\n",
    "        if i*batch_size >= len(file_list):  # This loop is used to run the generator indefinitely.\n",
    "            i = 0\n",
    "            np.random.shuffle(file_list)\n",
    "        else:\n",
    "            file_chunk = file_list[i*batch_size:(i+1)*batch_size] \n",
    "            data = []\n",
    "            labels = []\n",
    "            label_classes = [\"Fault_1\", \"Fault_2\", \"Fault_3\", \"Fault_4\", \"Fault_5\"]\n",
    "            for file in file_chunk:\n",
    "                temp = pd.read_csv(open(file,'r')) # Change this line to read any other type of file\n",
    "                data.append(temp.values.reshape(32,32,1)) # Convert column data to matrix like data with one channel\n",
    "                pattern = \"^\" + eval(\"file[14:21]\")      # Pattern extracted from file_name\n",
    "                for j in range(len(label_classes)):\n",
    "                    if re.match(pattern, label_classes[j]): # Pattern is matched against different label_classes\n",
    "                        labels.append(j)  \n",
    "            data = np.asarray(data).reshape(-1,32,32,1)\n",
    "            labels = np.asarray(labels)\n",
    "            yield data, labels\n",
    "            i = i + 1"
   ]
  },
  {
   "cell_type": "markdown",
   "metadata": {},
   "source": [
    "To read any other file format, inside the generator change the line that reads files. This will enable us to read different file formats, be it `.txt` or `.npz` or any other.\n",
    "\n",
    "Now we will check whether the generator works as intended or not. We will set `batch_size` to 10. This means that files in chunks of 10 will be read and processed. The list of files from which 10 are chosen can be an ordered file list or shuffled list. In case, the files are not shuffled, use `np.random.shuffle(file_list)` to shuffle files. \n",
    "\n",
    "In the demonstration, we will read files from an ordered list. This will help us check any errors in the code. "
   ]
  },
  {
   "cell_type": "code",
   "execution_count": 9,
   "metadata": {},
   "outputs": [],
   "source": [
    "generated_data = data_generator(files, batch_size = 10)"
   ]
  },
  {
   "cell_type": "code",
   "execution_count": 10,
   "metadata": {},
   "outputs": [
    {
     "name": "stdout",
     "output_type": "stream",
     "text": [
      "(10, 32, 32, 1) (10,)\n",
      "[0 0 0 0 0 0 0 0 0 0] <--Labels\n",
      "\n",
      "(10, 32, 32, 1) (10,)\n",
      "[0 0 0 0 0 0 0 0 0 0] <--Labels\n",
      "\n",
      "(10, 32, 32, 1) (10,)\n",
      "[0 0 0 0 0 0 0 0 0 0] <--Labels\n",
      "\n",
      "(10, 32, 32, 1) (10,)\n",
      "[0 0 0 0 0 0 0 0 0 0] <--Labels\n",
      "\n",
      "(10, 32, 32, 1) (10,)\n",
      "[0 0 0 0 0 0 0 0 0 0] <--Labels\n",
      "\n",
      "(10, 32, 32, 1) (10,)\n",
      "[0 0 0 0 0 0 0 0 0 0] <--Labels\n",
      "\n"
     ]
    }
   ],
   "source": [
    "num = 0\n",
    "for data, labels in generated_data:\n",
    "    print(data.shape, labels.shape)\n",
    "    print(labels, \"<--Labels\")  # Just to see the lables\n",
    "    print()\n",
    "    num = num + 1\n",
    "    if num > 5: break"
   ]
  },
  {
   "cell_type": "markdown",
   "metadata": {},
   "source": [
    "Run the above cell multiple times to observe different labels. Label 1 appears only when all the files corresponding to \"Fault_1\" have been read. There are 100 files for \"Fault_1\" and we have set batch_size to 10. In the above cell we are iterating over the generator only 6 times. When number of iterations become greater than 10, we see label 1 and subsequently other labels. This will happen only if our initial file list is not shuffled. If the original list is shuffled, we will get random labels."
   ]
  },
  {
   "cell_type": "markdown",
   "metadata": {},
   "source": [
    "Now we will create a `tensorflow dataset` using the generator. `Tensorflow` datasets can conveniently be used to train `tensorflow` models."
   ]
  },
  {
   "cell_type": "markdown",
   "metadata": {},
   "source": [
    "A `tensorflow dataset` can be created form numpy arrays or from generators.Here, we will create it using a generator. Use of the previously created generator as it is in `tensorflow datasets` doesn't work (Readers can verify this). This happens because of the inability of regular expression to compare a \"string\" with a \"byte string\". \"byte strings\" are generated by default in tensorflow. As a way around, we will make modifications to the earlier generator and use it with tensorflow datasets. Note that we will only modified three lines. Modified lines are accompanied by commented texts beside it."
   ]
  },
  {
   "cell_type": "code",
   "execution_count": 11,
   "metadata": {},
   "outputs": [],
   "source": [
    "import tensorflow as tf"
   ]
  },
  {
   "cell_type": "code",
   "execution_count": 12,
   "metadata": {},
   "outputs": [],
   "source": [
    "def tf_data_generator(file_list, batch_size = 20):\n",
    "    i = 0\n",
    "    while True:\n",
    "        if i*batch_size >= len(file_list):  \n",
    "            i = 0\n",
    "            np.random.shuffle(file_list)\n",
    "        else:\n",
    "            file_chunk = file_list[i*batch_size:(i+1)*batch_size] \n",
    "            data = []\n",
    "            labels = []\n",
    "            label_classes = tf.constant([\"Fault_1\", \"Fault_2\", \"Fault_3\", \"Fault_4\", \"Fault_5\"]) # This line has changed.\n",
    "            for file in file_chunk:\n",
    "                temp = pd.read_csv(open(file,'r'))\n",
    "                data.append(temp.values.reshape(32,32,1)) \n",
    "                pattern = tf.constant(eval(\"file[14:21]\"))  # This line has changed\n",
    "                for j in range(len(label_classes)):\n",
    "                    if re.match(pattern.numpy(), label_classes[j].numpy()):  # This line has changed.\n",
    "                        labels.append(j)\n",
    "            data = np.asarray(data).reshape(-1,32,32,1)\n",
    "            labels = np.asarray(labels)\n",
    "            yield data, labels\n",
    "            i = i + 1"
   ]
  },
  {
   "cell_type": "markdown",
   "metadata": {},
   "source": [
    "Test whether modified generator works or not."
   ]
  },
  {
   "cell_type": "code",
   "execution_count": 13,
   "metadata": {},
   "outputs": [],
   "source": [
    "check_data = tf_data_generator(files, batch_size = 10)"
   ]
  },
  {
   "cell_type": "code",
   "execution_count": 14,
   "metadata": {},
   "outputs": [
    {
     "name": "stdout",
     "output_type": "stream",
     "text": [
      "(10, 32, 32, 1) (10,)\n",
      "[0 0 0 0 0 0 0 0 0 0] <--Labels\n",
      "\n",
      "(10, 32, 32, 1) (10,)\n",
      "[0 0 0 0 0 0 0 0 0 0] <--Labels\n",
      "\n",
      "(10, 32, 32, 1) (10,)\n",
      "[0 0 0 0 0 0 0 0 0 0] <--Labels\n",
      "\n",
      "(10, 32, 32, 1) (10,)\n",
      "[0 0 0 0 0 0 0 0 0 0] <--Labels\n",
      "\n",
      "(10, 32, 32, 1) (10,)\n",
      "[0 0 0 0 0 0 0 0 0 0] <--Labels\n",
      "\n",
      "(10, 32, 32, 1) (10,)\n",
      "[0 0 0 0 0 0 0 0 0 0] <--Labels\n",
      "\n"
     ]
    }
   ],
   "source": [
    "num = 0\n",
    "for data, labels in check_data:\n",
    "    print(data.shape, labels.shape)\n",
    "    print(labels, \"<--Labels\")\n",
    "    print()\n",
    "    num = num + 1\n",
    "    if num > 5: break"
   ]
  },
  {
   "cell_type": "markdown",
   "metadata": {},
   "source": [
    "Note that the new generator created by using a few `tensorflow` commands works just fine as our previous generator. This new generator can now be integrated with a `tensorflow dataset`."
   ]
  },
  {
   "cell_type": "code",
   "execution_count": 15,
   "metadata": {},
   "outputs": [],
   "source": [
    "batch_size = 15\n",
    "dataset = tf.data.Dataset.from_generator(tf_data_generator,args= [files, batch_size],output_types = (tf.float32, tf.float32),\n",
    "                                                output_shapes = ((None,32,32,1),(None,)))"
   ]
  },
  {
   "cell_type": "markdown",
   "metadata": {},
   "source": [
    "Check whether `dataset` works or not."
   ]
  },
  {
   "cell_type": "code",
   "execution_count": 16,
   "metadata": {},
   "outputs": [
    {
     "name": "stdout",
     "output_type": "stream",
     "text": [
      "(15, 32, 32, 1) (15,)\n",
      "tf.Tensor([0. 0. 0. 0. 0. 0. 0. 0. 0. 0. 0. 0. 0. 0. 0.], shape=(15,), dtype=float32)\n",
      "\n",
      "(15, 32, 32, 1) (15,)\n",
      "tf.Tensor([0. 0. 0. 0. 0. 0. 0. 0. 0. 0. 0. 0. 0. 0. 0.], shape=(15,), dtype=float32)\n",
      "\n",
      "(15, 32, 32, 1) (15,)\n",
      "tf.Tensor([0. 0. 0. 0. 0. 0. 0. 0. 0. 0. 0. 0. 0. 0. 0.], shape=(15,), dtype=float32)\n",
      "\n",
      "(15, 32, 32, 1) (15,)\n",
      "tf.Tensor([0. 0. 0. 0. 0. 0. 0. 0. 0. 0. 0. 0. 0. 0. 0.], shape=(15,), dtype=float32)\n",
      "\n",
      "(15, 32, 32, 1) (15,)\n",
      "tf.Tensor([0. 0. 0. 0. 0. 0. 0. 0. 0. 0. 0. 0. 0. 0. 0.], shape=(15,), dtype=float32)\n",
      "\n",
      "(15, 32, 32, 1) (15,)\n",
      "tf.Tensor([0. 0. 0. 0. 0. 0. 0. 0. 0. 0. 0. 0. 0. 0. 0.], shape=(15,), dtype=float32)\n",
      "\n",
      "(15, 32, 32, 1) (15,)\n",
      "tf.Tensor([0. 0. 0. 0. 0. 0. 0. 0. 0. 0. 1. 1. 1. 1. 1.], shape=(15,), dtype=float32)\n",
      "\n",
      "(15, 32, 32, 1) (15,)\n",
      "tf.Tensor([1. 1. 1. 1. 1. 1. 1. 1. 1. 1. 1. 1. 1. 1. 1.], shape=(15,), dtype=float32)\n",
      "\n"
     ]
    }
   ],
   "source": [
    "num = 0\n",
    "for data, labels in dataset:\n",
    "    print(data.shape, labels.shape)\n",
    "    print(labels)\n",
    "    print()\n",
    "    num = num + 1\n",
    "    if num > 7: break"
   ]
  },
  {
   "cell_type": "markdown",
   "metadata": {},
   "source": [
    "This also works fine. Now, we will train a full CNN model using the generator. As is done in every model, we will first shuffle data files. Split the files into train, validation, and test set. Using the `tf_data_generator` create three tensorflow datasets corresponding to train, validation, and test data respectively. Finally, we will create a simple CNN model. Train it using train dataset, see its performance on validation dataset, and obtain prediction using test dataset. Keep in mind that our aim is not to improve performance of the model. As the data are random, don't expect to see good performance. The aim is only to create a pipeline.  "
   ]
  },
  {
   "cell_type": "code",
   "execution_count": 17,
   "metadata": {},
   "outputs": [],
   "source": [
    "from sklearn.model_selection import train_test_split"
   ]
  },
  {
   "cell_type": "code",
   "execution_count": 18,
   "metadata": {},
   "outputs": [],
   "source": [
    "train_file_names, test_file_names = train_test_split(files, test_size = 0.2, random_state = 321)"
   ]
  },
  {
   "cell_type": "code",
   "execution_count": 19,
   "metadata": {},
   "outputs": [],
   "source": [
    "train_file_names, validation_file_names = train_test_split(train_file_names, test_size = 0.15, random_state = 232)"
   ]
  },
  {
   "cell_type": "code",
   "execution_count": 20,
   "metadata": {},
   "outputs": [
    {
     "name": "stdout",
     "output_type": "stream",
     "text": [
      "Number of train_files: 340\n",
      "Number of validation_files: 60\n",
      "Number of test_files: 100\n"
     ]
    }
   ],
   "source": [
    "print(\"Number of train_files:\" ,len(train_file_names))\n",
    "print(\"Number of validation_files:\" ,len(validation_file_names))\n",
    "print(\"Number of test_files:\" ,len(test_file_names))"
   ]
  },
  {
   "cell_type": "code",
   "execution_count": 21,
   "metadata": {},
   "outputs": [],
   "source": [
    "batch_size = 10\n",
    "train_dataset = tf.data.Dataset.from_generator(tf_data_generator, args = [train_file_names, batch_size], \n",
    "                                              output_shapes = ((None,32,32,1),(None,)),\n",
    "                                              output_types = (tf.float32, tf.float32))\n",
    "\n",
    "validation_dataset = tf.data.Dataset.from_generator(tf_data_generator, args = [validation_file_names, batch_size],\n",
    "                                                   output_shapes = ((None,32,32,1),(None,)),\n",
    "                                                   output_types = (tf.float32, tf.float32))\n",
    "\n",
    "test_dataset = tf.data.Dataset.from_generator(tf_data_generator, args = [test_file_names, batch_size],\n",
    "                                             output_shapes = ((None,32,32,1),(None,)),\n",
    "                                             output_types = (tf.float32, tf.float32))"
   ]
  },
  {
   "cell_type": "markdown",
   "metadata": {},
   "source": [
    "Now create the model."
   ]
  },
  {
   "cell_type": "code",
   "execution_count": 22,
   "metadata": {},
   "outputs": [],
   "source": [
    "from tensorflow.keras import layers"
   ]
  },
  {
   "cell_type": "code",
   "execution_count": 23,
   "metadata": {},
   "outputs": [
    {
     "name": "stdout",
     "output_type": "stream",
     "text": [
      "Model: \"sequential\"\n",
      "_________________________________________________________________\n",
      "Layer (type)                 Output Shape              Param #   \n",
      "=================================================================\n",
      "conv2d (Conv2D)              (None, 30, 30, 16)        160       \n",
      "_________________________________________________________________\n",
      "max_pooling2d (MaxPooling2D) (None, 15, 15, 16)        0         \n",
      "_________________________________________________________________\n",
      "conv2d_1 (Conv2D)            (None, 13, 13, 32)        4640      \n",
      "_________________________________________________________________\n",
      "max_pooling2d_1 (MaxPooling2 (None, 6, 6, 32)          0         \n",
      "_________________________________________________________________\n",
      "flatten (Flatten)            (None, 1152)              0         \n",
      "_________________________________________________________________\n",
      "dense (Dense)                (None, 16)                18448     \n",
      "_________________________________________________________________\n",
      "dense_1 (Dense)              (None, 5)                 85        \n",
      "=================================================================\n",
      "Total params: 23,333\n",
      "Trainable params: 23,333\n",
      "Non-trainable params: 0\n",
      "_________________________________________________________________\n"
     ]
    }
   ],
   "source": [
    "model = tf.keras.Sequential([\n",
    "    layers.Conv2D(16, 3, activation = \"relu\", input_shape = (32,32,1)),\n",
    "    layers.MaxPool2D(2),\n",
    "    layers.Conv2D(32, 3, activation = \"relu\"),\n",
    "    layers.MaxPool2D(2),\n",
    "    layers.Flatten(),\n",
    "    layers.Dense(16, activation = \"relu\"),\n",
    "    layers.Dense(5, activation = \"softmax\")\n",
    "])\n",
    "model.summary()"
   ]
  },
  {
   "cell_type": "markdown",
   "metadata": {},
   "source": [
    "Compile the model."
   ]
  },
  {
   "cell_type": "code",
   "execution_count": 24,
   "metadata": {},
   "outputs": [],
   "source": [
    "model.compile(loss = \"sparse_categorical_crossentropy\", optimizer = \"adam\", metrics = [\"accuracy\"])"
   ]
  },
  {
   "cell_type": "markdown",
   "metadata": {},
   "source": [
    "Before we fit the model, we have to do one important calculation. Remember that our generators are infinite loops. So if no stopping criteria is given, it will run indefinitely. But we want our model to run for, say, 10 epochs. So our generator should loop over the data files just 10 times and no more. This is achieved by setting the arguments `steps_per_epoch` and `validation_steps` to desired numbers in `model.fit()`. Similarly while evaluating model, we need to set the argument `steps` to a desired number in `model.evaluate()`."
   ]
  },
  {
   "cell_type": "markdown",
   "metadata": {},
   "source": [
    "There are 340 files in training set. Batch_size is 10. So if the generator runs 34 times, it will correspond to one epoch. Therefor, we should set `steps_per_epoch` to 34. Similarly, `validation_steps = 6` and in `model.evaluate()`, `steps = 10`."
   ]
  },
  {
   "cell_type": "code",
   "execution_count": 25,
   "metadata": {},
   "outputs": [],
   "source": [
    "steps_per_epoch = 34\n",
    "validation_steps = 6\n",
    "steps = 10"
   ]
  },
  {
   "cell_type": "code",
   "execution_count": 26,
   "metadata": {},
   "outputs": [
    {
     "name": "stdout",
     "output_type": "stream",
     "text": [
      "Train for 34 steps, validate for 6 steps\n",
      "Epoch 1/10\n",
      "34/34 [==============================] - 2s 58ms/step - loss: 1.6182 - accuracy: 0.1618 - val_loss: 1.6131 - val_accuracy: 0.2000\n",
      "Epoch 2/10\n",
      "34/34 [==============================] - 1s 39ms/step - loss: 1.6086 - accuracy: 0.2029 - val_loss: 1.6177 - val_accuracy: 0.1833\n",
      "Epoch 3/10\n",
      "34/34 [==============================] - 1s 39ms/step - loss: 1.6043 - accuracy: 0.2265 - val_loss: 1.6152 - val_accuracy: 0.1000\n",
      "Epoch 4/10\n",
      "34/34 [==============================] - 1s 38ms/step - loss: 1.6029 - accuracy: 0.2676 - val_loss: 1.6177 - val_accuracy: 0.1667\n",
      "Epoch 5/10\n",
      "34/34 [==============================] - 1s 39ms/step - loss: 1.5976 - accuracy: 0.2294 - val_loss: 1.6301 - val_accuracy: 0.1833\n",
      "Epoch 6/10\n",
      "34/34 [==============================] - 1s 40ms/step - loss: 1.5943 - accuracy: 0.2353 - val_loss: 1.6503 - val_accuracy: 0.0833\n",
      "Epoch 7/10\n",
      "34/34 [==============================] - 1s 39ms/step - loss: 1.5918 - accuracy: 0.2382 - val_loss: 1.6716 - val_accuracy: 0.0833\n",
      "Epoch 8/10\n",
      "34/34 [==============================] - 1s 39ms/step - loss: 1.5742 - accuracy: 0.2618 - val_loss: 1.6021 - val_accuracy: 0.3333\n",
      "Epoch 9/10\n",
      "34/34 [==============================] - 1s 39ms/step - loss: 1.5544 - accuracy: 0.2618 - val_loss: 1.6453 - val_accuracy: 0.0833\n",
      "Epoch 10/10\n",
      "34/34 [==============================] - 1s 39ms/step - loss: 1.5308 - accuracy: 0.2912 - val_loss: 1.6401 - val_accuracy: 0.0833\n"
     ]
    },
    {
     "data": {
      "text/plain": [
       "<tensorflow.python.keras.callbacks.History at 0x218ffa90>"
      ]
     },
     "execution_count": 26,
     "metadata": {},
     "output_type": "execute_result"
    }
   ],
   "source": [
    "model.fit(train_dataset, validation_data = validation_dataset, steps_per_epoch = steps_per_epoch,\n",
    "         validation_steps = validation_steps, epochs = 10)"
   ]
  },
  {
   "cell_type": "code",
   "execution_count": 27,
   "metadata": {},
   "outputs": [
    {
     "name": "stdout",
     "output_type": "stream",
     "text": [
      "10/10 [==============================] - 0s 32ms/step - loss: 1.6415 - accuracy: 0.1700\n"
     ]
    }
   ],
   "source": [
    "test_loss, test_accuracy = model.evaluate(test_dataset, steps = 10)"
   ]
  },
  {
   "cell_type": "code",
   "execution_count": 28,
   "metadata": {},
   "outputs": [
    {
     "name": "stdout",
     "output_type": "stream",
     "text": [
      "Test loss:  1.6414685010910035\n",
      "Test accuracy: 0.17\n"
     ]
    }
   ],
   "source": [
    "print(\"Test loss: \", test_loss)\n",
    "print(\"Test accuracy:\", test_accuracy)"
   ]
  },
  {
   "cell_type": "markdown",
   "metadata": {},
   "source": [
    "As expected, model performs terribly. This brings us to the end of the blog. As we had planned in the beginning, we have created random data files, a generator, and trained a model using that generator. The above code can be tweaked slightly to read any type of files other than `.csv`. And now we can train our model without worrying about the data size. Whether the data size is 10GB or 750GB, our approach will work for both.\n",
    "\n",
    "As a final note, I want to stress that, this is not the only approach to do the task. As I have mentioned previously, in `Tensorflow`, you can do the same thing in several different ways. The approach I have chosen seemed natural to me. I have neither strived for efficiency nor elegance. If readers have any better idea, I would be happy to know of it.\n",
    "\n",
    "I hope, this blog will be of help to readers. Please bring any errors or omissions to my notice. "
   ]
  }
 ],
 "metadata": {
  "kernelspec": {
   "display_name": "tensorflow_env",
   "language": "python",
   "name": "tensorflwo_env"
  },
  "language_info": {
   "codemirror_mode": {
    "name": "ipython",
    "version": 3
   },
   "file_extension": ".py",
   "mimetype": "text/x-python",
   "name": "python",
   "nbconvert_exporter": "python",
   "pygments_lexer": "ipython3",
   "version": "3.7.3"
  }
 },
 "nbformat": 4,
 "nbformat_minor": 2
}
