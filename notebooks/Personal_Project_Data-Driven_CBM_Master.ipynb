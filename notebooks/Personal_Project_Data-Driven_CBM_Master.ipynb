{
 "cells": [
  {
   "cell_type": "markdown",
   "metadata": {},
   "source": [
    "# Data-Driven Machinery Condition Monitoring"
   ]
  },
  {
   "cell_type": "markdown",
   "metadata": {},
   "source": [
    "## Introduction to the problem\n",
    "Condition based maintenance is the process of doing maintenance only when it is required. This has many advantages along with monetary gain as it precludes periodic maintenance and reduces unplanned downtime. The next logical question is to figure out when maintenance is required. Maintenance is required if fault has either occurred or is imminent. This leads us to the problem of fault diagnosis and prognostics.\n",
    "\n",
    "In fault diagnosis, fault has already occurred and our aim is to find what type of fault is there and what is its severity. In fault prognostics out aim is to predict the time of occurence of fault in future, given its present state. These two problem are central to condition based maintenance. There are many methods to solve these problems. These methods can be broadly divided into two groups:\n",
    "* Model Based Approach\n",
    "* Data-Driven Approach\n",
    "\n",
    "In model based a complete model of the system is formulated and it is then used for fault diagnosis and prognostics. But this method has several limitations. Firstly, it is a difficult task to accurately model a system. Modelling becomes even more challenging with variations in working conditions. Secondly, we have to formulate different models for different tasks. For example, to diagnose bearing fault and gear fault, we have to formulate two different models. Data-driven methods provide a convenient alternative to these problems.\n",
    "\n",
    "In data-driven approach, we use opearational data of the machine to design algorihtms that are then used for falut diagnosis and prognostics. The operational data may be vibration data, thermal imaging data, accoustic emission data, or something else. These techniques are robust to enviromental variations. Accuracy obtained by data-driven methods is also at par and sometimes even better than accuracy obtained by model based approaches. Due to these reasons data-driven methods are becoming increasinly popular at diagnosis and prognostics tasks."
   ]
  },
  {
   "cell_type": "markdown",
   "metadata": {},
   "source": [
    "## Aim of the project\n",
    "In this project we will apply some of the standard techniques to publicly available data sets and show their results with code. There are not many publicly available data sets in machinery condition monitoring. But we will only use those data sets that are publicly available. Unlike machine learning community where almost all data and codes are open, in condition monitoring very few things are open, though some people are gradually making codes open. This porject is a step towards that direction, enen though a tiny one.\n",
    "\n",
    "This is an ongoing project and modifictions and additons of new techniques will be done over time. "
   ]
  },
  {
   "cell_type": "markdown",
   "metadata": {},
   "source": [
    "## Results"
   ]
  },
  {
   "cell_type": "code",
   "execution_count": null,
   "metadata": {},
   "outputs": [],
   "source": []
  }
 ],
 "metadata": {
  "kernelspec": {
   "display_name": "tensorflow_env",
   "language": "python",
   "name": "tensorflwo_env"
  },
  "language_info": {
   "codemirror_mode": {
    "name": "ipython",
    "version": 3
   },
   "file_extension": ".py",
   "mimetype": "text/x-python",
   "name": "python",
   "nbconvert_exporter": "python",
   "pygments_lexer": "ipython3",
   "version": "3.7.2"
  },
  "varInspector": {
   "cols": {
    "lenName": 16,
    "lenType": 16,
    "lenVar": 40
   },
   "kernels_config": {
    "python": {
     "delete_cmd_postfix": "",
     "delete_cmd_prefix": "del ",
     "library": "var_list.py",
     "varRefreshCmd": "print(var_dic_list())"
    },
    "r": {
     "delete_cmd_postfix": ") ",
     "delete_cmd_prefix": "rm(",
     "library": "var_list.r",
     "varRefreshCmd": "cat(var_dic_list()) "
    }
   },
   "types_to_exclude": [
    "module",
    "function",
    "builtin_function_or_method",
    "instance",
    "_Feature"
   ],
   "window_display": false
  }
 },
 "nbformat": 4,
 "nbformat_minor": 2
}
