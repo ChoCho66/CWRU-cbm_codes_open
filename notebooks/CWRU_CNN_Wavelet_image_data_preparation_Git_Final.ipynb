{
 "cells": [
  {
   "cell_type": "markdown",
   "metadata": {},
   "source": [
    "First import relevant libraries. For wavelet transform we have used [PyWavelets package](https://pywavelets.readthedocs.io/en/latest/). Image resizing can be done in many ways. We have used Tensorflow for the same."
   ]
  },
  {
   "cell_type": "code",
   "execution_count": 1,
   "metadata": {},
   "outputs": [],
   "source": [
    "import tensorflow as tf\n",
    "import numpy as np\n",
    "import pandas as pd\n",
    "import pywt\n",
    "import glob"
   ]
  },
  {
   "cell_type": "code",
   "execution_count": 2,
   "metadata": {},
   "outputs": [
    {
     "data": {
      "text/plain": [
       "['D:/matlab/case/process/48k/load_1\\\\DE_48k_B007_1.csv',\n",
       " 'D:/matlab/case/process/48k/load_1\\\\DE_48k_B014_1.csv',\n",
       " 'D:/matlab/case/process/48k/load_1\\\\DE_48k_B021_1.csv',\n",
       " 'D:/matlab/case/process/48k/load_1\\\\DE_48k_IR007_1.csv',\n",
       " 'D:/matlab/case/process/48k/load_1\\\\DE_48k_IR014_1_X217_1.csv',\n",
       " 'D:/matlab/case/process/48k/load_1\\\\DE_48k_IR021_1.csv',\n",
       " 'D:/matlab/case/process/48k/load_1\\\\DE_48k_OR007_6_1.csv',\n",
       " 'D:/matlab/case/process/48k/load_1\\\\DE_48k_OR014_6_1.csv',\n",
       " 'D:/matlab/case/process/48k/load_1\\\\DE_48k_OR021_6_1.csv',\n",
       " 'D:/matlab/case/process/48k/load_1\\\\Normal_1.csv']"
      ]
     },
     "execution_count": 2,
     "metadata": {},
     "output_type": "execute_result"
    }
   ],
   "source": [
    "files = glob.glob('D:/matlab/case/process/48k/load_1/*.csv')\n",
    "files"
   ]
  },
  {
   "cell_type": "markdown",
   "metadata": {},
   "source": [
    "These files are there in the folder. We read each file sequentially, segmet it into lengths of 1024 and apply wavelet transform to it. Then we resize the wavelet ouput to size $(32 \\times 32)$. Following code can be used to genrate data."
   ]
  },
  {
   "cell_type": "code",
   "execution_count": null,
   "metadata": {},
   "outputs": [],
   "source": [
    "files = glob.glob('D:/matlab/case/process/48k/load_1/*.csv')\n",
    "data = np.empty((460*10,32,32))\n",
    "data[:] = np.nan\n",
    "\n",
    "count = 0\n",
    "for file in files:\n",
    "    temp = pd.read_csv(file, header = None)\n",
    "    for j in range(460):\n",
    "        segment = temp[0][(j*1024):((j+1)*1024)].values\n",
    "        coefs,_ = pywt.cwt(segment,np.arange(1,2049,32), 'morl')\n",
    "        data[count,:,:] = tf.reshape(tf.image.resize(coefs.reshape((64,1024,1)),(32,32)),(32,32))\n",
    "        if (count % 100) == 0:\n",
    "            print(f\"{count} data points extracted\")\n",
    "        count = count + 1\n",
    "fault_types = ['Ball_007', 'Ball_014', 'Ball_021', 'IR_007', 'IR_014', 'IR_021', 'OR_007','OR_014', 'OR_021', 'Normal']\n",
    "labels = np.repeat(fault_types, 460)\n",
    "# Save wavelet data\n",
    "np.savez('CWRU_48k_load_1_CNN_wavelet_data', data = data, labels = labels)"
   ]
  }
 ],
 "metadata": {
  "kernelspec": {
   "display_name": "tensorflow_env",
   "language": "python",
   "name": "tensorflwo_env"
  },
  "language_info": {
   "codemirror_mode": {
    "name": "ipython",
    "version": 3
   },
   "file_extension": ".py",
   "mimetype": "text/x-python",
   "name": "python",
   "nbconvert_exporter": "python",
   "pygments_lexer": "ipython3",
   "version": "3.7.3"
  }
 },
 "nbformat": 4,
 "nbformat_minor": 2
}
