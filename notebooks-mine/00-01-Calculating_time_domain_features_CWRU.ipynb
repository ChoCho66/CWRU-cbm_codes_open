{
 "cells": [
  {
   "cell_type": "markdown",
   "metadata": {},
   "source": [
    "## Calculating time domain features\n",
    "\n",
    "In this notebook, we will calculate time domain features from raw data and form a feature matrix. We will then compare the computed feature matrix with the one that is available online. To compute feature matrix, we will first segment our data into segments of length 2048. There is no overlap between consecutive segments. We will then compute time domain features for each segment. We will use the already segmented raw time domain data available [here](https://github.com/biswajitsahoo1111/cbm_codes_open/blob/master/notebooks/data/CWRU_48k_load_1_CNN_data.npz). For details about data description and segmentation procedure, see [this notebook](https://github.com/biswajitsahoo1111/cbm_codes_open/blob/master/notebooks/CWRU_time_domain_data_preprocessing.ipynb).\n",
    "\n",
    "We have taken segment length of 2048 because the feature matrix that is available online has been computed using 2048 as segment length.\n",
    "As we are going to compare our computed result with the feature matrix that is available online, we will also take the same segment length.\n",
    "But there is nothing special with the number 2048.\n",
    "We could have taken 1024 as our segment length.\n",
    "The only criteria segment length has to satisfy is that within the segment our event of interest (i.e., fault signature) should occur."
   ]
  },
  {
   "cell_type": "code",
   "execution_count": 1,
   "metadata": {},
   "outputs": [],
   "source": [
    "import numpy as np\n",
    "import pandas as pd"
   ]
  },
  {
   "cell_type": "markdown",
   "metadata": {},
   "source": [
    "Download the raw time domain data from [here](https://github.com/biswajitsahoo1111/cbm_codes_open/blob/master/notebooks/data/CWRU_48k_load_1_CNN_data.npz) and read it."
   ]
  },
  {
   "cell_type": "code",
   "execution_count": 2,
   "metadata": {},
   "outputs": [
    {
     "data": {
      "text/plain": [
       "['data', 'labels']"
      ]
     },
     "execution_count": 2,
     "metadata": {},
     "output_type": "execute_result"
    }
   ],
   "source": [
    "file = np.load(\"./data/CWRU_48k_load_1_CNN_data.npz\")\n",
    "file.files"
   ]
  },
  {
   "cell_type": "code",
   "execution_count": 3,
   "metadata": {},
   "outputs": [],
   "source": [
    "data = file[\"data\"]\n",
    "labels = file[\"labels\"]"
   ]
  },
  {
   "cell_type": "code",
   "execution_count": 4,
   "metadata": {},
   "outputs": [
    {
     "data": {
      "text/plain": [
       "(4600, 32, 32)"
      ]
     },
     "execution_count": 4,
     "metadata": {},
     "output_type": "execute_result"
    }
   ],
   "source": [
    "data.shape"
   ]
  },
  {
   "cell_type": "code",
   "execution_count": 5,
   "metadata": {},
   "outputs": [
    {
     "data": {
      "text/plain": [
       "array([[ 0.048399  ,  0.048399  ,  0.050902  , ..., -0.074267  ,\n",
       "        -0.04819   , -0.03317   ],\n",
       "       [-0.021905  ,  0.0045895 ,  0.043183  , ..., -0.10014   ,\n",
       "        -0.098466  , -0.060916  ],\n",
       "       [-0.0058412 ,  0.040263  ,  0.071972  , ..., -0.0029206 ,\n",
       "        -0.027537  , -0.060498  ],\n",
       "       ...,\n",
       "       [ 0.082403  ,  0.07385   ,  0.048607  , ...,  0.18963   ,\n",
       "         0.15145   ,  0.098466  ],\n",
       "       [ 0.042558  , -0.00083446, -0.037342  , ...,  0.024408  ,\n",
       "         0.078439  ,  0.13122   ],\n",
       "       [ 0.17774   ,  0.21112   ,  0.23115   , ..., -0.28601   ,\n",
       "        -0.15709   ,  0.012934  ]])"
      ]
     },
     "execution_count": 5,
     "metadata": {},
     "output_type": "execute_result"
    }
   ],
   "source": [
    "data[1]"
   ]
  },
  {
   "cell_type": "markdown",
   "metadata": {},
   "source": [
    "We will resize the data so that our segment length is 2048."
   ]
  },
  {
   "cell_type": "code",
   "execution_count": null,
   "metadata": {},
   "outputs": [
    {
     "data": {
      "text/plain": [
       "(2300, 2048)"
      ]
     },
     "execution_count": 6,
     "metadata": {},
     "output_type": "execute_result"
    }
   ],
   "source": [
    "resized_data = np.reshape(data, (2300, 2048))\n",
    "resized_data.shape"
   ]
  },
  {
   "cell_type": "markdown",
   "metadata": {},
   "source": [
    "## Calculate features\n",
    "\n",
    "We will calculate following time domain features.\n",
    "\n",
    "* Maximum value\n",
    "* Minimum value\n",
    "* Mean value \n",
    "* Standard deviation (Unbiased standard deviation)\n",
    "* Root mean square value (RMS)\n",
    "* Skewness\n",
    "* Kurtosis\n",
    "* Crest factor = $\\frac{\\text{Maximum value}}{\\text{RMS}}$\n",
    "* Form factor = $\\frac{\\text{RMS}}{\\text{Mean value}}$\n",
    "\n",
    "The only two statistical features that require some comment are `skewness` and `kurtosis`. In literature, there are different definitions for both. We will use the following two definitions.\n",
    "\n",
    "$$\\text{skewness} = \\frac{\\text{Third moment}}{{\\text{(Std. deviation)}}^3} = \\frac{ \\frac{\\Sigma_{i = 1}^{N}{(x_i - \\mu)^3}}{N}} {\\text{(Std. deviation)}^3}$$\n",
    "\n",
    "where, $\\mu$= mean and **standard deviation is the unbiased standard deviation**. Similarly `kurtosis` is defined as:\n",
    "\n",
    "$$\\text{kurtosis} = \\frac{\\text{Fourth moment}}{{\\text{(Std. deviation)}}^4}-3 = \\frac{ \\frac{\\Sigma_{i = 1}^{N}{(x_i - \\mu)^4}}{N}} {\\text{(Std. deviation)}^4} - 3$$\n",
    "\n",
    "Using `scipy.stats` we can also compute `skewness` and `kurtosis`. But their default definitions are slightly different in `scipy`. Therefore, we will not use `scipy`. Rather, we will manually compute those 2 features. \n",
    "\n",
    "### Why have I not used the default `scipy` definition?\n",
    "\n",
    "When I started this project, I used to use `R` for data analysis (I still use `R`). In `R`, there is a package `e1071` that has functions to compute `skewness` and `kurtosis`. Default versions of these functions use the above formulae to calculate `skewness` and `kurtosis`. The feature matrix that is available online is created using these functions. Now, as we intend to reproduce our feature matrix in `Python`, we have to use the same formulae that was used to compute it at the first place. This is the reason behind our departure from `scipy` definition."
   ]
  },
  {
   "cell_type": "code",
   "execution_count": 7,
   "metadata": {},
   "outputs": [],
   "source": [
    "def compute_skewness(x):\n",
    "    \"\"\"x should be 1D np array.\"\"\"\n",
    "    N = len(x)\n",
    "    third_moment = np.sum((x - np.mean(x))**3) / N\n",
    "    s_3 = np.std(x, ddof = 1) ** 3\n",
    "    return third_moment/s_3"
   ]
  },
  {
   "cell_type": "code",
   "execution_count": 8,
   "metadata": {},
   "outputs": [],
   "source": [
    "def compute_kurtosis(x):\n",
    "    \"\"\"x should be 1D np array.\"\"\"\n",
    "    N = len(x)\n",
    "    fourth_moment = np.sum((x - np.mean(x))**4) / N\n",
    "    s_4 = np.std(x, ddof = 1) ** 4\n",
    "    return fourth_moment / s_4 - 3"
   ]
  },
  {
   "cell_type": "code",
   "execution_count": 9,
   "metadata": {},
   "outputs": [],
   "source": [
    "feature_matrix_time = np.repeat(np.nan, 2300*9).reshape((2300,9))\n",
    "N = resized_data.shape[1]\n",
    "for i in np.arange(resized_data.shape[0]):\n",
    "    temp = resized_data[i,:]\n",
    "    feature_matrix_time[i,0] = np.max(temp)\n",
    "    feature_matrix_time[i,1] = np.min(temp)\n",
    "    feature_matrix_time[i,2] = np.mean(temp)\n",
    "    feature_matrix_time[i,3] = np.std(temp, ddof = 1)\n",
    "    feature_matrix_time[i,4] = np.sqrt(np.mean(temp ** 2))\n",
    "    feature_matrix_time[i,5] = compute_skewness(temp)\n",
    "    feature_matrix_time[i,6] = compute_kurtosis(temp)\n",
    "    feature_matrix_time[i,7] = feature_matrix_time[i,0]/feature_matrix_time[i,4]\n",
    "    feature_matrix_time[i,8] = feature_matrix_time[i,4]/feature_matrix_time[i,2]"
   ]
  },
  {
   "cell_type": "markdown",
   "metadata": {},
   "source": [
    "Now read the online feature_matrix using the online link."
   ]
  },
  {
   "cell_type": "code",
   "execution_count": 11,
   "metadata": {},
   "outputs": [
    {
     "data": {
      "text/html": [
       "<div>\n",
       "<style scoped>\n",
       "    .dataframe tbody tr th:only-of-type {\n",
       "        vertical-align: middle;\n",
       "    }\n",
       "\n",
       "    .dataframe tbody tr th {\n",
       "        vertical-align: top;\n",
       "    }\n",
       "\n",
       "    .dataframe thead th {\n",
       "        text-align: right;\n",
       "    }\n",
       "</style>\n",
       "<table border=\"1\" class=\"dataframe\">\n",
       "  <thead>\n",
       "    <tr style=\"text-align: right;\">\n",
       "      <th></th>\n",
       "      <th>max</th>\n",
       "      <th>min</th>\n",
       "      <th>mean</th>\n",
       "      <th>sd</th>\n",
       "      <th>rms</th>\n",
       "      <th>skewness</th>\n",
       "      <th>kurtosis</th>\n",
       "      <th>crest</th>\n",
       "      <th>form</th>\n",
       "      <th>fault</th>\n",
       "    </tr>\n",
       "  </thead>\n",
       "  <tbody>\n",
       "    <tr>\n",
       "      <th>0</th>\n",
       "      <td>0.35986</td>\n",
       "      <td>-0.41890</td>\n",
       "      <td>0.017840</td>\n",
       "      <td>0.122746</td>\n",
       "      <td>0.124006</td>\n",
       "      <td>-0.118571</td>\n",
       "      <td>-0.042219</td>\n",
       "      <td>2.901946</td>\n",
       "      <td>6.950855</td>\n",
       "      <td>Ball_007_1</td>\n",
       "    </tr>\n",
       "    <tr>\n",
       "      <th>1</th>\n",
       "      <td>0.46772</td>\n",
       "      <td>-0.36111</td>\n",
       "      <td>0.022255</td>\n",
       "      <td>0.132488</td>\n",
       "      <td>0.134312</td>\n",
       "      <td>0.174699</td>\n",
       "      <td>-0.081548</td>\n",
       "      <td>3.482334</td>\n",
       "      <td>6.035202</td>\n",
       "      <td>Ball_007_1</td>\n",
       "    </tr>\n",
       "    <tr>\n",
       "      <th>2</th>\n",
       "      <td>0.46855</td>\n",
       "      <td>-0.43809</td>\n",
       "      <td>0.020470</td>\n",
       "      <td>0.149651</td>\n",
       "      <td>0.151008</td>\n",
       "      <td>0.040339</td>\n",
       "      <td>-0.274069</td>\n",
       "      <td>3.102819</td>\n",
       "      <td>7.376926</td>\n",
       "      <td>Ball_007_1</td>\n",
       "    </tr>\n",
       "    <tr>\n",
       "      <th>3</th>\n",
       "      <td>0.58475</td>\n",
       "      <td>-0.54303</td>\n",
       "      <td>0.020960</td>\n",
       "      <td>0.157067</td>\n",
       "      <td>0.158422</td>\n",
       "      <td>-0.023266</td>\n",
       "      <td>0.134692</td>\n",
       "      <td>3.691097</td>\n",
       "      <td>7.558387</td>\n",
       "      <td>Ball_007_1</td>\n",
       "    </tr>\n",
       "    <tr>\n",
       "      <th>4</th>\n",
       "      <td>0.44685</td>\n",
       "      <td>-0.57891</td>\n",
       "      <td>0.022167</td>\n",
       "      <td>0.138189</td>\n",
       "      <td>0.139922</td>\n",
       "      <td>-0.081534</td>\n",
       "      <td>0.402783</td>\n",
       "      <td>3.193561</td>\n",
       "      <td>6.312085</td>\n",
       "      <td>Ball_007_1</td>\n",
       "    </tr>\n",
       "  </tbody>\n",
       "</table>\n",
       "</div>"
      ],
      "text/plain": [
       "       max      min      mean        sd       rms  skewness  kurtosis  \\\n",
       "0  0.35986 -0.41890  0.017840  0.122746  0.124006 -0.118571 -0.042219   \n",
       "1  0.46772 -0.36111  0.022255  0.132488  0.134312  0.174699 -0.081548   \n",
       "2  0.46855 -0.43809  0.020470  0.149651  0.151008  0.040339 -0.274069   \n",
       "3  0.58475 -0.54303  0.020960  0.157067  0.158422 -0.023266  0.134692   \n",
       "4  0.44685 -0.57891  0.022167  0.138189  0.139922 -0.081534  0.402783   \n",
       "\n",
       "      crest      form       fault  \n",
       "0  2.901946  6.950855  Ball_007_1  \n",
       "1  3.482334  6.035202  Ball_007_1  \n",
       "2  3.102819  7.376926  Ball_007_1  \n",
       "3  3.691097  7.558387  Ball_007_1  \n",
       "4  3.193561  6.312085  Ball_007_1  "
      ]
     },
     "execution_count": 11,
     "metadata": {},
     "output_type": "execute_result"
    }
   ],
   "source": [
    "link = \"data/feature_time_48k_2048_load_1.csv\"\n",
    "online_feature_matrix = pd.read_csv(link)\n",
    "online_feature_matrix.head()"
   ]
  },
  {
   "cell_type": "code",
   "execution_count": 12,
   "metadata": {},
   "outputs": [
    {
     "data": {
      "text/plain": [
       "(2300, 10)"
      ]
     },
     "execution_count": 12,
     "metadata": {},
     "output_type": "execute_result"
    }
   ],
   "source": [
    "online_feature_matrix.shape"
   ]
  },
  {
   "cell_type": "code",
   "execution_count": 13,
   "metadata": {},
   "outputs": [
    {
     "data": {
      "text/plain": [
       "20700"
      ]
     },
     "execution_count": 13,
     "metadata": {},
     "output_type": "execute_result"
    }
   ],
   "source": [
    "2300*9"
   ]
  },
  {
   "cell_type": "code",
   "execution_count": 14,
   "metadata": {},
   "outputs": [
    {
     "data": {
      "text/plain": [
       "((2300, 9), (2300, 10))"
      ]
     },
     "execution_count": 14,
     "metadata": {},
     "output_type": "execute_result"
    }
   ],
   "source": [
    "feature_matrix_time.shape, online_feature_matrix.shape"
   ]
  },
  {
   "cell_type": "markdown",
   "metadata": {},
   "source": [
    "Compare the values of computed feature matrix with the one available online."
   ]
  },
  {
   "cell_type": "code",
   "execution_count": 15,
   "metadata": {},
   "outputs": [
    {
     "data": {
      "text/plain": [
       "0"
      ]
     },
     "execution_count": 15,
     "metadata": {},
     "output_type": "execute_result"
    }
   ],
   "source": [
    "np.sum(1-np.isclose(feature_matrix_time, online_feature_matrix.iloc[:,:9]))"
   ]
  },
  {
   "cell_type": "markdown",
   "metadata": {},
   "source": [
    "Now we can use our feature matrix for further analysis. For an example, see [this notebook](https://github.com/biswajitsahoo1111/cbm_codes_open/blob/master/notebooks/SVM_multiclass_time_cwru_python.ipynb) where we have used Support Vector Machine (SVM) on time domain feature matrix for multiclass fault classification. We achieved an overall classification accuracy of 96.5%."
   ]
  }
 ],
 "metadata": {
  "kernelspec": {
   "display_name": "Python 3",
   "language": "python",
   "name": "python3"
  },
  "language_info": {
   "codemirror_mode": {
    "name": "ipython",
    "version": 3
   },
   "file_extension": ".py",
   "mimetype": "text/x-python",
   "name": "python",
   "nbconvert_exporter": "python",
   "pygments_lexer": "ipython3",
   "version": "3.11.11"
  }
 },
 "nbformat": 4,
 "nbformat_minor": 4
}
